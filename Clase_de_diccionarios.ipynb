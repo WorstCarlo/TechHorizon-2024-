{
  "nbformat": 4,
  "nbformat_minor": 0,
  "metadata": {
    "colab": {
      "provenance": [],
      "authorship_tag": "ABX9TyPeojI2xtKQgfShQkPfNzhD",
      "include_colab_link": true
    },
    "kernelspec": {
      "name": "python3",
      "display_name": "Python 3"
    },
    "language_info": {
      "name": "python"
    }
  },
  "cells": [
    {
      "cell_type": "markdown",
      "metadata": {
        "id": "view-in-github",
        "colab_type": "text"
      },
      "source": [
        "<a href=\"https://colab.research.google.com/github/WorstCarlo/TechHorizon-2024-/blob/main/Clase_de_diccionarios.ipynb\" target=\"_parent\"><img src=\"https://colab.research.google.com/assets/colab-badge.svg\" alt=\"Open In Colab\"/></a>"
      ]
    },
    {
      "cell_type": "code",
      "execution_count": 9,
      "metadata": {
        "colab": {
          "base_uri": "https://localhost:8080/"
        },
        "id": "tqaZGdM43J2z",
        "outputId": "729bdd2d-b5e2-451c-ceb3-66878a96812e"
      },
      "outputs": [
        {
          "output_type": "stream",
          "name": "stdout",
          "text": [
            "\n",
            "Mi pelicula favorita\n",
            "Película: The Amazing Spider-Man 2: El poder de Electro\n",
            "Director: Marc Webb\n",
            "Año: 2014\n",
            "Género: Acción / Aventura\n",
            "Calificación: 8.5 / 10\n",
            "los actores principales: ['Andrew Garfield', 'Emma Stone', 'Jamie Foxx']\n"
          ]
        }
      ],
      "source": [
        "def ver_peli(pelicula):\n",
        "    titulo = pelicula.get(\"titulo\")\n",
        "    director = pelicula.get(\"director\")\n",
        "    anio = pelicula.get(\"anio\")\n",
        "    genero = pelicula.get(\"genero\")\n",
        "    calif = pelicula.get(\"calificacion\")\n",
        "    actores = pelicula.get(\"actores\")\n",
        "\n",
        "    print(f\"\\nMi pelicula favorita\")\n",
        "    print(f\"Película: {titulo}\")\n",
        "    print(f\"Director: {director}\")\n",
        "    print(f\"Año: {anio}\")\n",
        "    print(f\"Género: {genero}\")\n",
        "    print(f\"Calificación: {calif} / 10\")\n",
        "    print(f\"los actores principales: {actores}\")\n",
        "\n",
        "peli = {\n",
        "    \"titulo\": \"The Amazing Spider-Man 2: El poder de Electro\",\n",
        "    \"director\": \"Marc Webb\",\n",
        "    \"anio\": 2014,\n",
        "    \"genero\": \"Acción / Aventura\",\n",
        "    \"calificacion\": 8.5,\n",
        "    \"actores\": [\"Andrew Garfield\", \"Emma Stone\", \"Jamie Foxx\"]\n",
        "}\n",
        "\n",
        "ver_peli(peli)"
      ]
    }
  ]
}